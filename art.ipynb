{
 "cells": [
  {
   "cell_type": "code",
   "execution_count": 28,
   "metadata": {},
   "outputs": [],
   "source": [
    "import numpy as np\n",
    "import matplotlib.pyplot as plt\n",
    "from PIL import Image\n",
    "%matplotlib inline\n",
    "from scipy import signal\n",
    "\n"
   ]
  },
  {
   "cell_type": "code",
   "execution_count": 35,
   "metadata": {},
   "outputs": [
    {
     "data": {
      "image/png": "[encoded data removed]",
      "text/plain": [
       "<Figure size 640x480 with 1 Axes>"
      ]
     },
     "metadata": {},
     "output_type": "display_data"
    }
   ],
   "source": [
    "import numpy as np\n",
    "import matplotlib.pyplot as plt\n",
    "from PIL import Image\n",
    "\n",
    "# Generate random RGB array\n",
    "shape = (28, 28, 3)  # Adjust the shape as per your requirements\n",
    "array0 = np.random.randint(0, 256, shape, dtype=np.uint8)\n",
    "array1 = np.random.randint(0, 256, shape, dtype=np.uint8)\n",
    "\n",
    "# Create a list to store the frames\n",
    "frames = []\n",
    "\n",
    "# Generate and store subsequent arrays in the sequence\n",
    "for _ in range(10):  # Adjust the range as per your requirements\n",
    "    array_next = array1 + 2*array0\n",
    "    array_next = array_next.astype(np.uint8)  # Convert the array to the correct data type\n",
    "    frames.append(Image.fromarray(array_next))\n",
    "    array0 = array1\n",
    "    array1 = array_next\n",
    "\n",
    "# Save frames as a GIF\n",
    "frames[0].save('sequence.gif', format='GIF',\n",
    "               append_images=frames[1:],\n",
    "               save_all=True,\n",
    "               duration=200,  # Adjust the duration between frames (in milliseconds)\n",
    "               loop=0,# Set loop=0 for an infinite loop, or loop=1 for a finite loop\n",
    "               size=(512, 512), \n",
    " ) # Adjust the size as per your requirements\n",
    "\n",
    "# Display the GIF\n",
    "plt.imshow(frames[0])\n",
    "plt.axis('off')\n",
    "plt.show()\n",
    "\n"
   ]
  },
  {
   "cell_type": "code",
   "execution_count": null,
   "metadata": {},
   "outputs": [],
   "source": []
  }
 ],
 "metadata": {
  "kernelspec": {
   "display_name": "Python 3",
   "language": "python",
   "name": "python3"
  },
  "language_info": {
   "codemirror_mode": {
    "name": "ipython",
    "version": 3
   },
   "file_extension": ".py",
   "mimetype": "text/x-python",
   "name": "python",
   "nbconvert_exporter": "python",
   "pygments_lexer": "ipython3",
   "version": "3.10.11"
  },
  "orig_nbformat": 4
 },
 "nbformat": 4,
 "nbformat_minor": 2
}
